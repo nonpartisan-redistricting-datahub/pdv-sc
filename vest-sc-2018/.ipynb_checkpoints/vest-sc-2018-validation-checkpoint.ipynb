{
 "cells": [
  {
   "cell_type": "code",
   "execution_count": 1,
   "id": "2c54ad58",
   "metadata": {},
   "outputs": [],
   "source": [
    "import pandas as pd\n",
    "import geopandas as gp\n",
    "import numpy as np \n",
    "import os\n",
    "import fiona\n",
    "from statistics import mean, median\n",
    "import string\n",
    "import sys\n",
    "import glob"
   ]
  },
  {
   "cell_type": "markdown",
   "id": "267d00f2",
   "metadata": {},
   "source": [
    "# Precinct Shapefile\n",
    "---\n",
    "## VEST's Documentation File\n",
    "\n",
    "Election results from South Carolina State Election Commission (https://www.enr-scvotes.org/SC/92124/Web02-state.222648/#/)\n",
    "Precinct shapefile primarily from the U.S. Census Bureau's 2020 Redistricting Data Program Phase 2 release. The Lando/Lansford precinct in Chester County was merged to match the 2018 election results.\n",
    "\n",
    "Absentee, provisional, emergency, and failsafe results were reported countywide. These were distributed to precincts based on the precinct's share of the county vote for each candidate.\n",
    "\n",
    "In Spartanburg County the precinct labels for Trinity Methodist, Trinity Presbyterian, and West View Elementary were swapped to match the voter registration file. The boundary between Trinity Presbyterian and West View Elementary was also adjusted to match the county precinct map and the voter registration file.\n",
    "\n",
    "* G18GOVDSMI - James Smith (Democratic Party)\n",
    "* G18GOVRMCM - Henry McMaster (Republican Party)\n",
    "* G18GOVOWRI - Write-in Votes\n",
    "\n",
    "\n",
    "* G18SOSDWHI - Melvin T. Whittenburg (Democratic Party)\n",
    "* G18SOSRHAM - Mark Hammond (Republican Party)\n",
    "* G18SOSOWRI - Write-in Votes\n",
    "\n",
    "\n",
    "* G18TREDGLE - Rosalyn L. Glenn (Democratic Party)\n",
    "* G18TREWGLE - Rosalyn Glenn (Working Familites Party)\n",
    "* G18TRERLOF - Curtis Loftis (Republican Party)\n",
    "* G18TREAWOR - Sarah Work (American Party)\n",
    "* G18TREOWRI - Write-in Votes\n",
    "\n",
    "\n",
    "* G18ATGDANA - Constance Anastopoulo (Democratic Party)\n",
    "* G18ATGWANA - Constance Anastopoulo (Working Families Party)\n",
    "* G18ATGRWIL - Alan Wilson (Republican Party)\n",
    "* G18ATGOWRI - Write-in Votes\n",
    "\n",
    "\n",
    "* G18COMRECK - Richard Eckstrom (Republican Party)\n",
    "* G18COMOWRI - Write-in Votes\n",
    "\n",
    "\n",
    "* G18SPIRMIT - Molly Mitchell Spearman (Republican Party)\n",
    "* G18SPIOWRI - Write-in Votes\n",
    "\n",
    "\n",
    "* G18AGRUNEL - Chris Nelums (United Citizens Party)\n",
    "* G18AGRGEDM - David Edmond (Green Party)\n",
    "* G18AGRRWEA - Hugh Weathers (Republican Party)\n",
    "* G18AGROWRI - Write-in Votes"
   ]
  },
  {
   "cell_type": "markdown",
   "id": "381e9798",
   "metadata": {},
   "source": [
    "## Load in VEST's Final File"
   ]
  },
  {
   "cell_type": "code",
   "execution_count": 2,
   "id": "319e57b2",
   "metadata": {},
   "outputs": [],
   "source": [
    "vest_shp = gp.read_file(\"./raw-from-source/VEST/sc_2018/sc_2018.shp\")"
   ]
  },
  {
   "cell_type": "code",
   "execution_count": 3,
   "id": "cae3833f",
   "metadata": {},
   "outputs": [
    {
     "data": {
      "text/plain": [
       "(2247, 28)"
      ]
     },
     "execution_count": 3,
     "metadata": {},
     "output_type": "execute_result"
    }
   ],
   "source": [
    "vest_shp.shape"
   ]
  },
  {
   "cell_type": "code",
   "execution_count": 4,
   "id": "674c87c1",
   "metadata": {},
   "outputs": [
    {
     "data": {
      "text/html": [
       "<div>\n",
       "<style scoped>\n",
       "    .dataframe tbody tr th:only-of-type {\n",
       "        vertical-align: middle;\n",
       "    }\n",
       "\n",
       "    .dataframe tbody tr th {\n",
       "        vertical-align: top;\n",
       "    }\n",
       "\n",
       "    .dataframe thead th {\n",
       "        text-align: right;\n",
       "    }\n",
       "</style>\n",
       "<table border=\"1\" class=\"dataframe\">\n",
       "  <thead>\n",
       "    <tr style=\"text-align: right;\">\n",
       "      <th></th>\n",
       "      <th>STATEFP</th>\n",
       "      <th>COUNTYFP</th>\n",
       "      <th>VTDST</th>\n",
       "      <th>NAME</th>\n",
       "      <th>G18GOVDSMI</th>\n",
       "      <th>G18GOVRMCM</th>\n",
       "      <th>G18GOVOWRI</th>\n",
       "      <th>G18SOSDWHI</th>\n",
       "      <th>G18SOSRHAM</th>\n",
       "      <th>G18SOSOWRI</th>\n",
       "      <th>...</th>\n",
       "      <th>G18ATGOWRI</th>\n",
       "      <th>G18COMRECK</th>\n",
       "      <th>G18COMOWRI</th>\n",
       "      <th>G18SPIRMIT</th>\n",
       "      <th>G18SPIOWRI</th>\n",
       "      <th>G18AGRUNEL</th>\n",
       "      <th>G18AGRGEDM</th>\n",
       "      <th>G18AGRRWEA</th>\n",
       "      <th>G18AGROWRI</th>\n",
       "      <th>geometry</th>\n",
       "    </tr>\n",
       "  </thead>\n",
       "  <tbody>\n",
       "    <tr>\n",
       "      <th>0</th>\n",
       "      <td>45</td>\n",
       "      <td>001</td>\n",
       "      <td>000001</td>\n",
       "      <td>Abbeville No. 1</td>\n",
       "      <td>279</td>\n",
       "      <td>538</td>\n",
       "      <td>0</td>\n",
       "      <td>249</td>\n",
       "      <td>562</td>\n",
       "      <td>0</td>\n",
       "      <td>...</td>\n",
       "      <td>0</td>\n",
       "      <td>637</td>\n",
       "      <td>8</td>\n",
       "      <td>592</td>\n",
       "      <td>1</td>\n",
       "      <td>45</td>\n",
       "      <td>75</td>\n",
       "      <td>588</td>\n",
       "      <td>4</td>\n",
       "      <td>POLYGON Z ((-82.41472 34.20777 0.00000, -82.41...</td>\n",
       "    </tr>\n",
       "  </tbody>\n",
       "</table>\n",
       "<p>1 rows × 28 columns</p>\n",
       "</div>"
      ],
      "text/plain": [
       "  STATEFP COUNTYFP   VTDST             NAME  G18GOVDSMI  G18GOVRMCM  \\\n",
       "0      45      001  000001  Abbeville No. 1         279         538   \n",
       "\n",
       "   G18GOVOWRI  G18SOSDWHI  G18SOSRHAM  G18SOSOWRI  ...  G18ATGOWRI  \\\n",
       "0           0         249         562           0  ...           0   \n",
       "\n",
       "   G18COMRECK  G18COMOWRI  G18SPIRMIT  G18SPIOWRI  G18AGRUNEL  G18AGRGEDM  \\\n",
       "0         637           8         592           1          45          75   \n",
       "\n",
       "   G18AGRRWEA  G18AGROWRI                                           geometry  \n",
       "0         588           4  POLYGON Z ((-82.41472 34.20777 0.00000, -82.41...  \n",
       "\n",
       "[1 rows x 28 columns]"
      ]
     },
     "execution_count": 4,
     "metadata": {},
     "output_type": "execute_result"
    }
   ],
   "source": [
    "vest_shp.head(1)"
   ]
  },
  {
   "cell_type": "code",
   "execution_count": null,
   "id": "9b46eb2a",
   "metadata": {},
   "outputs": [
    {
     "data": {
      "text/plain": [
       "<AxesSubplot:>"
      ]
     },
     "execution_count": 5,
     "metadata": {},
     "output_type": "execute_result"
    }
   ],
   "source": [
    "vest_shp.boundary.plot()"
   ]
  },
  {
   "cell_type": "code",
   "execution_count": null,
   "id": "1c8961d2",
   "metadata": {},
   "outputs": [],
   "source": [
    "vest_shp.columns"
   ]
  },
  {
   "cell_type": "markdown",
   "id": "acfb23cb",
   "metadata": {},
   "source": [
    "# Election Results"
   ]
  },
  {
   "cell_type": "markdown",
   "id": "eefb8c62",
   "metadata": {},
   "source": [
    "## Load Files\n",
    "The SOS directed to this link for election results for the 2018 general: (https://www.enr-scvotes.org/SC/92124/Web02-state.222648/#/)"
   ]
  },
  {
   "cell_type": "code",
   "execution_count": null,
   "id": "268c0045",
   "metadata": {},
   "outputs": [],
   "source": [
    "# Change setting to display all columns and rows\n",
    "pd.set_option('display.max_columns', None)\n",
    "pd.set_option('display.max_rows', None)"
   ]
  },
  {
   "cell_type": "code",
   "execution_count": null,
   "id": "571eb9d2",
   "metadata": {},
   "outputs": [],
   "source": [
    "# Select the folder with all the needed files\n",
    "folder = os.listdir(\"./raw-from-source/Election_Results/3_Excel/\")\n",
    "\n",
    "# Create an empty list to add the all data\n",
    "files = []\n",
    "# Loop over all the files in the folder\n",
    "for val in folder:\n",
    "    # Set up a file path\n",
    "    file_string = \"./raw-from-source/Election_Results/3_Excel/\" + val\n",
    "    # Import file + specify sheets\n",
    "    df = pd.concat(pd.read_excel(file_string, sheet_name = ['3','4','5','6','7','8','9']), axis = 1)\n",
    "    # Flatten out the multi-level index\n",
    "    df.columns = df.columns.droplevel()\n",
    "    # Make the row with the candidates' names be the column names\n",
    "    df.columns = df.iloc[0]\n",
    "    # Rename the column with the precinct names as 'Precinct'\n",
    "    df = df.rename(columns = {df.columns[0]:'Precinct'})\n",
    "    # Add a number to each column\n",
    "    df.columns = [f'{i}_{x}' for i, x in enumerate(df.columns, 1)]\n",
    "    # Capitalize column names to match York County's\n",
    "    df.columns = df.columns.str.upper()\n",
    "    # Drop the first two rows (rows without data)\n",
    "    df = df.iloc[2:]\n",
    "    # Drop the rows with totals\n",
    "    df = df[df['1_PRECINCT'] != 'Total:']\n",
    "    # Add the county column\n",
    "    df[\"COUNTY\"] = val[:len(val) - 5]\n",
    "    # Add the data to the list\n",
    "    files.append(df)\n",
    "#Create the final dataframe\n",
    "sc_18 = pd.concat(files)"
   ]
  },
  {
   "cell_type": "code",
   "execution_count": null,
   "id": "b17eaed1",
   "metadata": {},
   "outputs": [],
   "source": [
    "# Select the columns/data needed for validation\n",
    "sc_18 = sc_18[['1_PRECINCT', '3_JAMES SMITH / MANDY POWERS NORRELL',\n",
    "               '5_HENRY MCMASTER / PAMELA EVETTE','7_WRITE-IN', \n",
    "               '12_MELVIN T WHITTENBURG', '14_MARK HAMMOND',\n",
    "               '16_WRITE-IN','21_ROSALYN L GLENN','23_ROSALYN GLENN','25_CURTIS LOFTIS', \n",
    "               '27_SARAH WORK','29_WRITE-IN','34_CONSTANCE ANASTOPOULO',\n",
    "               '36_CONSTANCE ANASTOPOULO','38_ALAN WILSON','40_WRITE-IN',\n",
    "               '45_RICHARD ECKSTROM','47_WRITE-IN','52_MOLLY MITCHELL SPEARMAN',\n",
    "               '54_WRITE-IN','59_CHRIS NELUMS','61_DAVID EDMOND','63_HUGH WEATHERS',\n",
    "               '65_WRITE-IN','COUNTY']]"
   ]
  },
  {
   "cell_type": "code",
   "execution_count": null,
   "id": "da816fcf",
   "metadata": {},
   "outputs": [],
   "source": [
    "# Rename the columns to match that of VEST's\n",
    "sc_18 = sc_18.rename(columns = {'1_PRECINCT':'PRECINCT', \n",
    "                                '3_JAMES SMITH / MANDY POWERS NORRELL':'G18GOVDSMI',\n",
    "                                '5_HENRY MCMASTER / PAMELA EVETTE':'G18GOVRMCM',\n",
    "                                '7_WRITE-IN':'G18GOVOWRI',\n",
    "                                '12_MELVIN T WHITTENBURG':'G18SOSDWHI',\n",
    "                                '14_MARK HAMMOND':'G18SOSRHAM',\n",
    "                                '16_WRITE-IN':'G18SOSOWRI',\n",
    "                                '21_ROSALYN L GLENN':'G18TREDGLE', \n",
    "                                '23_ROSALYN GLENN':'G18TREWGLE', \n",
    "                                '25_CURTIS LOFTIS':'G18TRERLOF',\n",
    "                                '27_SARAH WORK':'G18TREAWOR', \n",
    "                                '29_WRITE-IN':'G18TREOWRI',\n",
    "                                '34_CONSTANCE ANASTOPOULO':'G18ATGDANA',\n",
    "                                '36_CONSTANCE ANASTOPOULO':'G18ATGWANA', \n",
    "                                '38_ALAN WILSON':'G18ATGRWIL', \n",
    "                                '40_WRITE-IN':'G18ATGOWRI',\n",
    "                                '45_RICHARD ECKSTROM':'G18COMRECK',\n",
    "                                '47_WRITE-IN':'G18COMOWRI',\n",
    "                                '52_MOLLY MITCHELL SPEARMAN':'G18SPIRMIT',\n",
    "                                '54_WRITE-IN':'G18SPIOWRI',\n",
    "                                '59_CHRIS NELUMS':'G18AGRUNEL', \n",
    "                                '61_DAVID EDMOND':'G18AGRGEDM', \n",
    "                                '63_HUGH WEATHERS':'G18AGRRWEA',\n",
    "                                '65_WRITE-IN':'G18AGROWRI'})\n",
    "# Reorder the columns to match that of VEST's\n",
    "sc_18 = sc_18[['COUNTY','PRECINCT', 'G18GOVDSMI', 'G18GOVRMCM', 'G18GOVOWRI', 'G18SOSDWHI',\n",
    "       'G18SOSRHAM', 'G18SOSOWRI', 'G18TREDGLE', 'G18TREWGLE', 'G18TRERLOF',\n",
    "       'G18TREAWOR', 'G18TREOWRI', 'G18ATGDANA', 'G18ATGWANA', 'G18ATGRWIL',\n",
    "       'G18ATGOWRI', 'G18COMRECK', 'G18COMOWRI', 'G18SPIRMIT', 'G18SPIOWRI',\n",
    "       'G18AGRUNEL', 'G18AGRGEDM', 'G18AGRRWEA', 'G18AGROWRI']]"
   ]
  },
  {
   "cell_type": "code",
   "execution_count": null,
   "id": "e3a9aa5a",
   "metadata": {},
   "outputs": [],
   "source": [
    "# Reset index\n",
    "sc_18 = sc_18.reset_index(drop=True)"
   ]
  },
  {
   "cell_type": "code",
   "execution_count": null,
   "id": "1d31c0b3",
   "metadata": {},
   "outputs": [],
   "source": [
    "# Capitalize the first letter of the County names\n",
    "sc_18['COUNTY'] = sc_18['COUNTY'].str.capitalize()\n",
    "# Rename Mccormick County as McCormick County to match VEST \n",
    "sc_18 = sc_18.replace('Mccormick','McCormick')"
   ]
  },
  {
   "cell_type": "code",
   "execution_count": null,
   "id": "2ec0efd2",
   "metadata": {},
   "outputs": [],
   "source": [
    "# Change strings to integers (County and Precinct columns remain unchanged)\n",
    "sc_18 = sc_18.apply(pd.to_numeric, errors='ignore')"
   ]
  },
  {
   "cell_type": "markdown",
   "id": "541f2082",
   "metadata": {},
   "source": [
    "## Validation"
   ]
  },
  {
   "cell_type": "markdown",
   "id": "20a0d12d",
   "metadata": {},
   "source": [
    "### Statewide Candidate Totals "
   ]
  },
  {
   "cell_type": "code",
   "execution_count": null,
   "id": "c9b38811",
   "metadata": {},
   "outputs": [],
   "source": [
    "data_columns = ['G18GOVDSMI', 'G18GOVRMCM', 'G18GOVOWRI',\n",
    "       'G18SOSDWHI', 'G18SOSRHAM', 'G18SOSOWRI', 'G18TREDGLE', 'G18TREWGLE',\n",
    "       'G18TRERLOF', 'G18TREAWOR', 'G18TREOWRI', 'G18ATGDANA', 'G18ATGWANA',\n",
    "       'G18ATGRWIL', 'G18ATGOWRI', 'G18COMRECK', 'G18COMOWRI', 'G18SPIRMIT',\n",
    "       'G18SPIOWRI', 'G18AGRUNEL', 'G18AGRGEDM', 'G18AGRRWEA', 'G18AGROWRI']\n",
    "def statewide_totals_check(partner_df,source_df,column_list):\n",
    "    print(\"***Statewide Totals Check***\")\n",
    "    for race in column_list:\n",
    "        if (sum(partner_df[race])- source_df[race].sum() != 0):\n",
    "            print(race+\" has a difference of \"+str(sum(partner_df[race])-source_df[race].sum())+\" votes\")\n",
    "            print(\"\\tVEST: \"+str(sum(partner_df[race]))+\" votes\")\n",
    "            print(\"\\tSOURCES: \"+str(source_df[race].sum())+\" votes\")\n",
    "        else:\n",
    "            print(race + \" is equal\", \"\\tVEST / RDH: \" + str(sum(partner_df[race])))"
   ]
  },
  {
   "cell_type": "code",
   "execution_count": null,
   "id": "db06d541",
   "metadata": {},
   "outputs": [],
   "source": [
    "statewide_totals_check(vest_shp,sc_18,data_columns)"
   ]
  },
  {
   "cell_type": "markdown",
   "id": "e4d585d0",
   "metadata": {},
   "source": [
    "### County Totals"
   ]
  },
  {
   "cell_type": "markdown",
   "id": "2dbe6d66",
   "metadata": {},
   "source": [
    "#### Add in County FIPS Data"
   ]
  },
  {
   "cell_type": "code",
   "execution_count": null,
   "id": "9fcd5204",
   "metadata": {},
   "outputs": [],
   "source": [
    "# Load in the nationwide FIPS file\n",
    "fips_file = pd.read_csv(\"./raw-from-source/FIPS/US_FIPS_Codes.csv\")\n",
    "fips_file = fips_file[fips_file[\"State\"]==\"South Carolina\"]\n",
    "fips_file[\"FIPS County\"]=fips_file[\"FIPS County\"].astype(str)\n",
    "\n",
    "# Make the FIPS three digits\n",
    "fips_file[\"FIPS County\"]=fips_file[\"FIPS County\"].str.zfill(3)\n",
    "\n",
    "# Create the dictionary\n",
    "SC_fips_dict = dict(zip(fips_file[\"County Name\"],fips_file[\"FIPS County\"]))\n",
    "\n",
    "# Use the dictionary to go from a county name to a county FIPS\n",
    "sc_18[\"COUNTYFP\"] = sc_18[\"COUNTY\"].map(SC_fips_dict).fillna(sc_18[\"COUNTY\"])\n",
    "\n",
    "# Check the number of counties - looking for 46\n",
    "print(len(sc_18[\"COUNTYFP\"].unique()))"
   ]
  },
  {
   "cell_type": "markdown",
   "id": "4a280afd",
   "metadata": {},
   "source": [
    "#### Check the Results"
   ]
  },
  {
   "cell_type": "code",
   "execution_count": null,
   "id": "65fc9f87",
   "metadata": {},
   "outputs": [],
   "source": [
    "def county_totals_check(partner_df,source_df,column_list,county_col,full_print=False):\n",
    "    print(\"***Countywide Totals Check***\")\n",
    "    print(\"\")\n",
    "    diff_counties=[]\n",
    "    for race in column_list:\n",
    "        diff = partner_df.groupby([county_col]).sum()[race]-source_df.groupby([county_col]).sum()[race]\n",
    "        for val in diff[diff != 0].index.values.tolist():\n",
    "            if val not in diff_counties:\n",
    "                diff_counties.append(val)\n",
    "        if len(diff[diff != 0]!=0):   \n",
    "            print(race + \" contains differences in these counties:\")\n",
    "            for val in diff[diff != 0].index.values.tolist():\n",
    "                county_differences = diff[diff != 0]\n",
    "                print(\"\\t\"+val+\" has a difference of \"+str(county_differences[val])+\" votes\")\n",
    "                print(\"\\t\\tVEST: \"+str(partner_df.groupby([county_col]).sum().loc[val,race])+\" votes\")\n",
    "                print(\"\\t\\tSOURCES: \"+str(source_df.groupby([county_col]).sum().loc[val,race])+\" votes\")\n",
    "            if (full_print):\n",
    "                for val in diff[diff == 0].index.values.tolist():\n",
    "                    county_similarities = diff[diff == 0]\n",
    "                    print(\"\\t\"+val + \": \"+ str(partner_df.groupby([county_col]).sum().loc[val,race])+\" votes\")\n",
    "        else:\n",
    "            print(race + \" is equal across all counties\")\n",
    "            if (full_print):\n",
    "                for val in diff[diff == 0].index.values.tolist():\n",
    "                    county_similarities = diff[diff == 0]\n",
    "                    print(\"\\t\"+val + \": \"+ str(partner_df.groupby([county_col]).sum().loc[val,race])+\" votes\")"
   ]
  },
  {
   "cell_type": "code",
   "execution_count": null,
   "id": "7ff3fcea",
   "metadata": {},
   "outputs": [],
   "source": [
    "county_totals_check(vest_shp,sc_18,data_columns,\"COUNTYFP\", full_print=False)"
   ]
  },
  {
   "cell_type": "markdown",
   "id": "cab346c0",
   "metadata": {},
   "source": [
    "### Precinct Totals"
   ]
  },
  {
   "cell_type": "markdown",
   "id": "71398175",
   "metadata": {},
   "source": [
    "#### Allocate Absentee Votes"
   ]
  },
  {
   "cell_type": "code",
   "execution_count": null,
   "id": "9dc374db",
   "metadata": {},
   "outputs": [],
   "source": [
    "# Create a list with votes to allocate\n",
    "to_allocate_list = ['Absentee','Absentee 1','Absentee 2','Absentee 3','Absentee 4','Absentee 5','Absentee - B',\n",
    "'Emergency','Emergency 1','Emergency 2','Emergency 3','Emergency 4','Emergency 5','Emergency - B',\n",
    "'Failsafe','Failsafe 1','Failsafe 2','Failsafe 3','Failsafe 4','Failsafe 5','Failsafe - B',\n",
    "'Provisional','Provisional 1','Provisional 2','Provisional 3','Provisional 4','Provisional 5','Provisional - B',\n",
    "'Failsafe Provisional','Failsafe Provisional 1','Failsafe provisonal 1','Failsafe/Provisional']\n",
    "\n",
    "to_allocate = sc_18[sc_18[\"PRECINCT\"].isin(to_allocate_list)]\n",
    "to_add_to = sc_18[~sc_18[\"PRECINCT\"].isin(to_allocate_list)]"
   ]
  },
  {
   "cell_type": "code",
   "execution_count": null,
   "id": "238f2006",
   "metadata": {},
   "outputs": [],
   "source": [
    "def allocate_absentee(df_receiving_votes,df_allocating,column_list,col_allocating,allocating_to_all_empty_precs=False):    \n",
    "    #Fill any n/a values with 0\n",
    "    df_receiving_votes = df_receiving_votes.fillna(0)\n",
    "    #Grab the original columns, so we can filter back down to them later\n",
    "    original_cols = list(df_receiving_votes.columns)\n",
    "    \n",
    "    #Add in the \"Total Votes column\"\n",
    "    if (allocating_to_all_empty_precs):\n",
    "        #In cases where every vote is 0, need to set the Total_Votes equal to 1 for proportional allocation\n",
    "        df_receiving_votes.loc[:,\"Total_Votes\"]=1\n",
    "    else:\n",
    "        df_receiving_votes.loc[:,\"Total_Votes\"]=0\n",
    "        for race in column_list:\n",
    "            df_receiving_votes.loc[:,\"Total_Votes\"]+=df_receiving_votes.loc[:,race]\n",
    "    \n",
    "    #Create the needed dataframes\n",
    "    precinct_specific_totals = pd.DataFrame(df_receiving_votes.groupby([col_allocating]).sum())\n",
    "    precinct_specific_totals.reset_index(drop=False,inplace=True)\n",
    "    to_dole_out_totals = pd.DataFrame(df_allocating.groupby([col_allocating]).sum())\n",
    "    to_dole_out_totals.reset_index(drop=False,inplace=True)\n",
    "    \n",
    "    #Add in total sum check\n",
    "    sum_dataframe = pd.DataFrame(columns=precinct_specific_totals.columns)\n",
    "    for i in column_list:\n",
    "        total_votes = precinct_specific_totals.loc[:,i].sum()+to_dole_out_totals.loc[:,i].sum()\n",
    "        sum_dataframe.at[0,i]=total_votes.astype(int)\n",
    "    \n",
    "    #Check the allocating to empty precincts code\n",
    "    if (allocating_to_all_empty_precs):\n",
    "        for i in column_list:\n",
    "            if(sum(precinct_specific_totals[i])!=0):\n",
    "                print(\"Allocating to all empty precincts parameter incorrect\")\n",
    "                break\n",
    "    \n",
    "    #Print out any instances where the allocation, as written, won't work\n",
    "    special_allocation_needed = []\n",
    "    for index, row in precinct_specific_totals.iterrows():\n",
    "        for race in column_list:\n",
    "            if (row[race]==0):\n",
    "                race_district = row[col_allocating]\n",
    "                if race_district in to_dole_out_totals[col_allocating].unique():\n",
    "                    to_allocate = int(to_dole_out_totals.loc[to_dole_out_totals[col_allocating]==race_district][race])\n",
    "                    if (to_allocate != 0):\n",
    "                        special_allocation_needed.append([race_district,race])\n",
    "                        if(row[\"Total_Votes\"]==0):\n",
    "                            precinct_specific_totals.loc[index,\"Total_Votes\"]=1\n",
    "                            col_val = row[col_allocating]\n",
    "                            df_receiving_votes.loc[df_receiving_votes[col_allocating]==col_val,\"Total_Votes\"]=1\n",
    "\n",
    "    #Create some new columns for each of these races to deal with the allocation\n",
    "    for race in column_list:\n",
    "        add_var = race+\"_add\"\n",
    "        rem_var = race+\"_rem\"\n",
    "        floor_var = race+\"_floor\"\n",
    "        df_receiving_votes.loc[:,add_var]=0.0\n",
    "        df_receiving_votes.loc[:,rem_var]=0.0\n",
    "        df_receiving_votes.loc[:,floor_var]=0.0\n",
    "\n",
    "    #Iterate over the rows\n",
    "    #Note this function iterates over the dataframe two times so the rounded vote totals match the totals to allocate\n",
    "    for index, row in df_receiving_votes.iterrows():\n",
    "        if row[col_allocating] in to_dole_out_totals[col_allocating].unique():\n",
    "            for race in column_list:\n",
    "                add_var = race+\"_add\"\n",
    "                rem_var = race+\"_rem\"\n",
    "                floor_var = race+\"_floor\"\n",
    "                #Grab the district\n",
    "                county_id = row[col_allocating]\n",
    "                if [county_id,race] in special_allocation_needed:\n",
    "                    #Get the denominator for the allocation - the summed \"total votes\" for precincts in that grouping\n",
    "                    denom = precinct_specific_totals.loc[precinct_specific_totals[col_allocating]==county_id][\"Total_Votes\"]\n",
    "                    #Get one of the numerators, how many districtwide votes to allocate\n",
    "                    numer = to_dole_out_totals.loc[to_dole_out_totals[col_allocating]==county_id][race]\n",
    "                    #Get the \"total votes\" for this particular precinct\n",
    "                    val = df_receiving_votes.at[index,\"Total_Votes\"]\n",
    "                    #Get the vote share, the precincts % of total precinct votes in the district times votes to allocate\n",
    "                else:\n",
    "                    #Get the denominator for the allocation (the precinct vote totals)\n",
    "                    denom = precinct_specific_totals.loc[precinct_specific_totals[col_allocating]==county_id][race]\n",
    "                    #Get one of the numerators, how many districtwide votes to allocate\n",
    "                    numer = to_dole_out_totals.loc[to_dole_out_totals[col_allocating]==county_id][race]\n",
    "                    #Get the vote totals for this race in this precinct\n",
    "                    val = df_receiving_votes.at[index,race]\n",
    "                    #Get the vote share, the precincts % of total precinct votes in the district times votes to allocate\n",
    "                if ((float(denom)==0)):\n",
    "                    vote_share = 0\n",
    "                else:\n",
    "                    vote_share = (float(val)/float(denom))*float(numer)\n",
    "                df_receiving_votes.at[index,add_var] = vote_share\n",
    "                #Take the decimal remainder of the allocation\n",
    "                df_receiving_votes.at[index,rem_var] = vote_share%1\n",
    "                #Take the floor of the allocation\n",
    "                df_receiving_votes.at[index,floor_var] = np.floor(vote_share)\n",
    "\n",
    "    #After the first pass through, get the sums of the races by district to assist in the rounding            \n",
    "    first_allocation = pd.DataFrame(df_receiving_votes.groupby([col_allocating]).sum())\n",
    "\n",
    "    #Now we want to iterate district by district to work on rounding\n",
    "    county_list = list(to_dole_out_totals[col_allocating].unique()) \n",
    "\n",
    "    #Iterate over the district\n",
    "    for county in county_list:\n",
    "        for race in column_list:\n",
    "            add_var = race+\"_add\"\n",
    "            rem_var = race+\"_rem\"\n",
    "            floor_var = race+\"_floor\"\n",
    "            #County how many votes still need to be allocated (because we took the floor of all the initial allocations)\n",
    "            to_go = int(np.round((int(to_dole_out_totals.loc[to_dole_out_totals[col_allocating]==county][race])-first_allocation.loc[first_allocation.index==county,floor_var])))\n",
    "            #Grab the n precincts with the highest remainders and round these up, where n is the # of votes that still need to be allocated\n",
    "            for index in df_receiving_votes.loc[df_receiving_votes[col_allocating]==county][rem_var].nlargest(to_go).index:\n",
    "                df_receiving_votes.at[index,add_var] = np.ceil(df_receiving_votes.at[index,add_var])\n",
    "\n",
    "    #Iterate over every race again\n",
    "    for race in column_list:\n",
    "        add_var = race+\"_add\"\n",
    "        #Round every allocation down to not add fractional votes\n",
    "        df_receiving_votes.loc[:,add_var]=np.floor(df_receiving_votes.loc[:,add_var])\n",
    "        df_receiving_votes.loc[:,race]+=df_receiving_votes.loc[:,add_var]\n",
    "        df_receiving_votes.loc[:,race] = df_receiving_votes.loc[:,race].astype(int)\n",
    "        #Check to make sure all the votes have been allocated\n",
    "        if ((sum_dataframe.loc[:,race].sum()-df_receiving_votes.loc[:,race].sum()!=0)):\n",
    "            print(\"Some issue in allocating votes for:\", i)\n",
    "            \n",
    "    #Filter down to original columns\n",
    "    df_receiving_votes = df_receiving_votes[original_cols]\n",
    "\n",
    "    return df_receiving_votes"
   ]
  },
  {
   "cell_type": "code",
   "execution_count": null,
   "id": "037f221e",
   "metadata": {},
   "outputs": [],
   "source": [
    "sc_18 = allocate_absentee(to_add_to,to_allocate,data_columns,'COUNTYFP')"
   ]
  },
  {
   "cell_type": "markdown",
   "id": "c5005b2e",
   "metadata": {},
   "source": [
    "#### Join Attempt 1"
   ]
  },
  {
   "cell_type": "code",
   "execution_count": null,
   "id": "953b030b",
   "metadata": {},
   "outputs": [],
   "source": [
    "# Capitalize precinct names in both files\n",
    "vest_shp['NAME'] = vest_shp['NAME'].str.capitalize()\n",
    "sc_18['PRECINCT'] = sc_18['PRECINCT'].str.capitalize()"
   ]
  },
  {
   "cell_type": "code",
   "execution_count": null,
   "id": "d6999769",
   "metadata": {},
   "outputs": [],
   "source": [
    "#Create a VEST join col\n",
    "vest_shp[\"join_col\"] = vest_shp[\"COUNTYFP\"]+\"-\"+vest_shp[\"NAME\"]\n",
    "#Check to make sure it is unique\n",
    "# print(vest_shp[\"join_col\"].value_counts(dropna=False))\n",
    "\n",
    "#Create an election results join col\n",
    "sc_18[\"join_col\"] = sc_18[\"COUNTYFP\"]+\"-\"+sc_18[\"PRECINCT\"]\n",
    "#Check to make sure it is unique\n",
    "# print(sc_18[\"join_col\"].value_counts(dropna=False))"
   ]
  },
  {
   "cell_type": "code",
   "execution_count": null,
   "id": "7077a8e3",
   "metadata": {},
   "outputs": [],
   "source": [
    "join_attempt_one = pd.merge(vest_shp,sc_18,how=\"outer\",on=\"join_col\",indicator=True)\n",
    "join_attempt_one[\"_merge\"].value_counts()"
   ]
  },
  {
   "cell_type": "code",
   "execution_count": null,
   "id": "af2d9ba9",
   "metadata": {},
   "outputs": [],
   "source": [
    "election_vest_id_changes_dict ={\"001-Donald's\": '001-Donalds', '005-Allendale #1': '005-Allendale no. 1', '005-Allendale #2': '005-Allendale no. 2', '005-Fairfax #1': '005-Fairfax no. 1', '005-Fairfax #2': '005-Fairfax no. 2', \"007-Barker's creek-mcadams\": \"007-Barker's creek\", '007-Fork no.1': '007-Fork no. 1', '007-Fork no.2': '007-Fork no. 2', \"007-Neal's creek\": '007-Neals creek', '007-North pointe': '007-North point', \"007-Shirley's store\": '007-Shirleys store', \"007-Wright's school\": '007-Wrights school', \"007-Cox's creek\": '007-Cox creek', '011-Barnwell 1': '011-Barnwell no. 1', '011-Barnwell 2': '011-Barnwell no. 2', '011-Barnwell 3': '011-Barnwell no. 3', '011-Barnwell 4': '011-Barnwell no. 4', '011-Blackville 1': '011-Blackville no. 1', '011-Blackville 2': '011-Blackville no. 2', '011-Williston 1': '011-Williston no. 1', '011-Williston 2': '011-Williston no. 2', '011-Williston 3': '011-Williston no. 3', '013-Saint helena 1a': '013-St. helena 1a', '013-Saint helena 1b': '013-St. helena 1b', '013-Saint helena 1c': '013-St. helena 1c', '013-Saint helena 2a': '013-St. helena 2a', '013-Saint helena 2b': '013-St. helena 2b', '013-Saint helena 2c': '013-St. helena 2c', '019-Lincolnville': '019-Licolnville', '021-Antioch and kings creek': \"021-Antioch and king's creek\", '021-Holly grove-buffalo': '021-Holly grove and buffalo', \"021-Littlejohn's and sarratt's\": \"021-Little john and sarratt's\", '021-Woods': \"021-Wood's\", '025-Mt. groghan': '025-Mt. croghan', '029-Canadys': \"029-Canady's\", '029-Wolf creek': '029-Wolfe creek', '037-Edgefield no.1': '037-Edgefield no. 1', '037-Edgefield no.2': '037-Edgefield no. 2', '037-Johnston no.1': '037-Johnston no. 1', '037-Johnston no.2': '037-Johnston no. 2', '037-Trenton no.1': '037-Trenton 1', '037-Merriweather no.1': '037-Merriweather no. 1', '037-Merriweather no.2': '037-Merriweather no. 2', '037-Trenton no.2': '037-Trenton 2', '039-Gladde3n grove': '039-Gladden grove', '039-Jenkinsville': '039-Jekinsville', '039-Woodard': '039-Woodward', '049-Hampton courthouse no.1': '049-Hampton cthse 1', '049-Hampton courthouse no.2': '049-Hampton cthse 2', \"057-Gooch's cross roads\": \"057-Gooch's cross road\", '061-Bishopville 1': '061-Bishopville no. 1', '061-Bishopville 2': '061-Bishopville no. 2', '061-Bishopville 4': '061-Bishopville no. 4', '061-South lynchburg': '061-S lynchburg', '061-Bishopville 3': '061-Bishopville no. 3', '063-Beulah  church': '063-Beulah church', \"065-Clark's hill\": '065-Clarks hill', '067-N west mullins': '067-Northwest mullins', '067-S west mullins': '067-Southwest mullins', '067-N east mullins': '067-Northeast mullins', '067-S east mullins': '067-Southeast mullins', '069-Red hill': '069-Redhill', '069-E bennettsville': '069-East bennettsville', '069-W bennettsville': '069-West bennettsville', '069-S bennettsville': '069-South bennettsville', '069-N bennettsville': '069-North bennettsville', '075-Orangeburg wd 1': '075-Orangeburg ward 1', '075-Orangeburg wd 2': '075-Orangeburg ward 2', '075-Orangeburg wd 3': '075-Orangeburg ward 3', '075-Orangeburg wd 4': '075-Orangeburg ward 4', '075-Orangeburg wd 5': '075-Orangeburg ward 5', '075-Orangeburg wd 6': '075-Orangeburg ward 6', '075-Ornageburg wd 7': '075-Orangeburg ward 7', '075-Orangeburg wd 8': '075-Orangeburg ward 8', '075-Orangeburg wd 9': '075-Orangeburg ward 9', '075-Orangeburg wd 10': '075-Orangeburg ward 10', '077-Mcallister': '077-Mcalister', '077-Lenhart': '077-Lenhardt', '085-St.john': '085-Saint john', '085-St. paul': '085-Saint paul', '089-Henry-poplar hill': '089-Henry poplar hl', '089-Kingstree no.1': '089-Kingstree no. 1', '089-Kingstree no.2': '089-Kingstree no. 2', '089-Kingstree no.3': '089-Kingstree no. 3', '089-Kingstree no.4': '089-Kingstree no. 4'}\n",
    "sc_18[\"join_col\"] = sc_18[\"join_col\"].map(election_vest_id_changes_dict).fillna(sc_18[\"join_col\"])"
   ]
  },
  {
   "cell_type": "markdown",
   "id": "9d82ad23",
   "metadata": {},
   "source": [
    "#### Join Attempt 2"
   ]
  },
  {
   "cell_type": "code",
   "execution_count": null,
   "id": "de3230f3",
   "metadata": {},
   "outputs": [],
   "source": [
    "join_attempt_two = pd.merge(vest_shp,sc_18,how=\"outer\",on=\"join_col\",indicator=\"final_merge\")\n",
    "print(join_attempt_two[\"final_merge\"].value_counts())"
   ]
  },
  {
   "cell_type": "code",
   "execution_count": null,
   "id": "3b6525de",
   "metadata": {},
   "outputs": [],
   "source": [
    "def validater_row (df, column_List):\n",
    "    matching_rows = 0\n",
    "    different_rows = 0\n",
    "    diff_list=[]\n",
    "    diff_values = []\n",
    "    max_diff = 0\n",
    "    for j in range(0,len(df.index)):\n",
    "        same = True\n",
    "        for i in column_List:\n",
    "            left_Data = i + \"_x\"\n",
    "            right_Data = i + \"_y\"\n",
    "            diff = abs(df.iloc[j][left_Data]-df.iloc[j][right_Data])\n",
    "            if(diff >0):\n",
    "                if(diff>0):\n",
    "                    print(i, \"{:.>72}\".format(df.iloc[j][\"PRECINCT\"]), \"(V)\",\"{:.>5}\".format(int(df.iloc[j][left_Data])),\" (S){:.>5}\".format(int(df.iloc[j][right_Data])),\"(D):{:>5}\".format(int(df.iloc[j][right_Data])-int(df.iloc[j][left_Data])))           \n",
    "                #print(df.iloc[j]['countypct'])\n",
    "                \n",
    "                diff_values.append(abs(diff))\n",
    "                same = False\n",
    "                if(np.isnan(diff)):\n",
    "                    print(\"NaN value at diff is: \", df.iloc[j][\"PRECINCT\"])\n",
    "                    print(df.iloc[j][left_Data])\n",
    "                    print(df.iloc[j][right_Data])\n",
    "                if (diff>max_diff):\n",
    "                    max_diff = diff\n",
    "                    #print(\"New max diff is: \", str(max_diff))\n",
    "                    #print(df.iloc[j]['cty_pct'])\n",
    "        if(same != True):\n",
    "            different_rows +=1\n",
    "            diff_list.append(df.iloc[j][\"PRECINCT\"])\n",
    "        else:\n",
    "            matching_rows +=1\n",
    "    print(\"\")\n",
    "    print(\"There are \", len(df.index),\" total rows\")\n",
    "    print(different_rows,\" of these rows have election result differences\")\n",
    "    print(matching_rows,\" of these rows are the same\")\n",
    "    print(\"\")\n",
    "    print(\"The max difference between any one shared column in a row is: \", max_diff)\n",
    "    if(len(diff_values)!=0):\n",
    "        print(\"The average difference is: \", str(sum(diff_values)/len(diff_values)))\n",
    "    count_big_diff = len([i for i in diff_values if i > 10])\n",
    "    print(\"There are \", str(count_big_diff), \"precinct results with a difference greater than 10\")\n",
    "    diff_list.sort()\n",
    "    print(diff_list)"
   ]
  },
  {
   "cell_type": "code",
   "execution_count": null,
   "id": "5b34ca8d",
   "metadata": {},
   "outputs": [],
   "source": [
    "validater_row(join_attempt_two[join_attempt_two[\"final_merge\"]==\"both\"], data_columns)"
   ]
  },
  {
   "cell_type": "code",
   "execution_count": null,
   "id": "4f897506",
   "metadata": {},
   "outputs": [],
   "source": []
  }
 ],
 "metadata": {
  "kernelspec": {
   "display_name": "Python 3 (ipykernel)",
   "language": "python",
   "name": "python3"
  },
  "language_info": {
   "codemirror_mode": {
    "name": "ipython",
    "version": 3
   },
   "file_extension": ".py",
   "mimetype": "text/x-python",
   "name": "python",
   "nbconvert_exporter": "python",
   "pygments_lexer": "ipython3",
   "version": "3.9.6"
  }
 },
 "nbformat": 4,
 "nbformat_minor": 5
}
